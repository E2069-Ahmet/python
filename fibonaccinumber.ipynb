{
 "cells": [
  {
   "cell_type": "code",
   "execution_count": 1,
   "metadata": {},
   "outputs": [
    {
     "name": "stdout",
     "output_type": "stream",
     "text": [
      "[1, 1, 2, 3, 5, 8, 13, 21, 34, 55]\n"
     ]
    }
   ],
   "source": [
    "number1 = 0\n",
    "number2 = 1\n",
    "fibo_list = []\n",
    "fibo_list.append(0)\n",
    "fibo_list.append(1)\n",
    "number3 = number1 + number2\n",
    "while number3 < 55:\n",
    "    number3 = fibo_list[len(fibo_list)-2] + fibo_list[len(fibo_list)-1]\n",
    "    fibo_list.append(number3)\n",
    "fibo_list.remove(0)\n",
    "print(fibo_list)"
   ]
  },
  {
   "cell_type": "code",
   "execution_count": null,
   "metadata": {},
   "outputs": [],
   "source": []
  }
 ],
 "metadata": {
  "kernelspec": {
   "display_name": "Python 3",
   "language": "python",
   "name": "python3"
  },
  "language_info": {
   "codemirror_mode": {
    "name": "ipython",
    "version": 3
   },
   "file_extension": ".py",
   "mimetype": "text/x-python",
   "name": "python",
   "nbconvert_exporter": "python",
   "pygments_lexer": "ipython3",
   "version": "3.7.6"
  }
 },
 "nbformat": 4,
 "nbformat_minor": 4
}
