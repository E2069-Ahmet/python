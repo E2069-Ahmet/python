{
 "cells": [
  {
   "cell_type": "code",
   "execution_count": 2,
   "metadata": {},
   "outputs": [
    {
     "name": "stdout",
     "output_type": "stream",
     "text": [
      "please enter a number: 4\n",
      "4 is not prime number\n"
     ]
    }
   ],
   "source": [
    "no = int(input(\"please enter a number: \"))\n",
    "counter = 0\n",
    "if no > 1:\n",
    "    for i in range(2, no):\n",
    "        if no % i == 0:\n",
    "            counter += 1\n",
    "            break\n",
    "    if counter == 0:\n",
    "        print(f\"{no} is a prime number\")\n",
    "    else:\n",
    "        print(f\"{no} is not prime number\")\n",
    "else:\n",
    "    print(f\"{no} is not prime number\")"
   ]
  },
  {
   "cell_type": "code",
   "execution_count": null,
   "metadata": {},
   "outputs": [],
   "source": []
  }
 ],
 "metadata": {
  "kernelspec": {
   "display_name": "Python 3",
   "language": "python",
   "name": "python3"
  },
  "language_info": {
   "codemirror_mode": {
    "name": "ipython",
    "version": 3
   },
   "file_extension": ".py",
   "mimetype": "text/x-python",
   "name": "python",
   "nbconvert_exporter": "python",
   "pygments_lexer": "ipython3",
   "version": "3.7.6"
  }
 },
 "nbformat": 4,
 "nbformat_minor": 4
}
