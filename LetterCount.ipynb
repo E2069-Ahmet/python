{
 "cells": [
  {
   "cell_type": "code",
   "execution_count": null,
   "metadata": {},
   "outputs": [],
   "source": [
    "sentence = input(\"enter a sentence: \")\n",
    "a = {}\n",
    "\n",
    "for i in sentence:\n",
    "    counter = 0\n",
    "    for j in sentence:\n",
    "        if i == j:\n",
    "            counter += 1\n",
    "    a[i] = counter\n",
    "print(a)"
   ]
  }
 ],
 "metadata": {
  "kernelspec": {
   "display_name": "Python 3",
   "language": "python",
   "name": "python3"
  },
  "language_info": {
   "codemirror_mode": {
    "name": "ipython",
    "version": 3
   },
   "file_extension": ".py",
   "mimetype": "text/x-python",
   "name": "python",
   "nbconvert_exporter": "python",
   "pygments_lexer": "ipython3",
   "version": "3.7.6"
  }
 },
 "nbformat": 4,
 "nbformat_minor": 4
}
