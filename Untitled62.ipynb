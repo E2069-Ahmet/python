{
 "cells": [
  {
   "cell_type": "code",
   "execution_count": 4,
   "metadata": {},
   "outputs": [
    {
     "name": "stdout",
     "output_type": "stream",
     "text": [
      "please enter a positive integer number: 93084\n",
      "93084 is a an Armstrong number\n"
     ]
    }
   ],
   "source": [
    "number = input(\"please enter a positive integer number: \").lower().strip()\n",
    "y = len(number)\n",
    "z = []\n",
    "if not number.isdigit():\n",
    "    print(\"It is an valid entry. Don't use non-numeric, float or negative values!\")\n",
    "else:\n",
    "    if int(number) > 0:\n",
    "        for i in number:\n",
    "            i = int(i)**y\n",
    "            z.append(i)\n",
    "        if int(number) == sum(z):\n",
    "            print(f\"{number} is a an Armstrong number\")\n",
    "        else:\n",
    "            print(f\"{number} is not an Armstrong number\")"
   ]
  },
  {
   "cell_type": "code",
   "execution_count": null,
   "metadata": {},
   "outputs": [],
   "source": []
  }
 ],
 "metadata": {
  "kernelspec": {
   "display_name": "Python 3",
   "language": "python",
   "name": "python3"
  },
  "language_info": {
   "codemirror_mode": {
    "name": "ipython",
    "version": 3
   },
   "file_extension": ".py",
   "mimetype": "text/x-python",
   "name": "python",
   "nbconvert_exporter": "python",
   "pygments_lexer": "ipython3",
   "version": "3.7.6"
  }
 },
 "nbformat": 4,
 "nbformat_minor": 4
}
