{
 "cells": [
  {
   "cell_type": "code",
   "execution_count": 20,
   "metadata": {},
   "outputs": [
    {
     "name": "stdout",
     "output_type": "stream",
     "text": [
      "- - - - - - - - - - - - - - - -\n",
      "0  0  0  |  0  6  4  |  0  0  0\n",
      "7  0  0  |  0  0  0  |  3  9  0\n",
      "8  0  0  |  0  0  0  |  0  0  0\n",
      "- - - - - - - - - - - - - - - -\n",
      "0  0  0  |  5  0  2  |  0  6  0\n",
      "0  8  0  |  4  0  0  |  0  0  0\n",
      "3  5  0  |  6  0  0  |  0  7  0\n",
      "- - - - - - - - - - - - - - - -\n",
      "0  0  2  |  0  0  0  |  1  0  3\n",
      "0  0  1  |  0  5  9  |  0  0  0\n",
      "0  0  0  |  0  0  0  |  7  0  0\n",
      "- - - - - - - - - - - - - - - -\n"
     ]
    }
   ],
   "source": [
    "x = [ \n",
    "    [0, 0, 0, 0, 6, 4, 0, 0, 0], \n",
    "    [7, 0, 0, 0, 0, 0, 3, 9, 0], \n",
    "    [8, 0, 0, 0, 0, 0, 0, 0, 0], \n",
    "    [0, 0, 0, 5, 0, 2, 0, 6, 0], \n",
    "    [0, 8, 0, 4, 0, 0, 0, 0, 0], \n",
    "    [3, 5, 0, 6, 0, 0, 0, 7, 0], \n",
    "    [0, 0, 2, 0, 0, 0, 1, 0, 3], \n",
    "    [0, 0, 1, 0, 5, 9, 0, 0, 0], \n",
    "    [0, 0, 0, 0, 0, 0, 7, 0, 0] \n",
    "]\n",
    "\n",
    "counter = 0\n",
    "for j in x:\n",
    "    if counter == 0:\n",
    "        print(\"- - - - - - - - - - - - - - - -\")\n",
    "       \n",
    "    print(*j[:3], \"|\" , *j[3:6] , \"|\", *j[6:], sep = \"  \")\n",
    "    counter += 1 \n",
    "    \n",
    "    if counter%3 ==0:\n",
    "        print(\"- - - - - - - - - - - - - - - -\")"
   ]
  },
  {
   "cell_type": "code",
   "execution_count": null,
   "metadata": {},
   "outputs": [],
   "source": []
  },
  {
   "cell_type": "code",
   "execution_count": null,
   "metadata": {},
   "outputs": [],
   "source": [
    "\n",
    "\n",
    "\n"
   ]
  },
  {
   "cell_type": "code",
   "execution_count": null,
   "metadata": {},
   "outputs": [],
   "source": []
  }
 ],
 "metadata": {
  "kernelspec": {
   "display_name": "Python 3",
   "language": "python",
   "name": "python3"
  },
  "language_info": {
   "codemirror_mode": {
    "name": "ipython",
    "version": 3
   },
   "file_extension": ".py",
   "mimetype": "text/x-python",
   "name": "python",
   "nbconvert_exporter": "python",
   "pygments_lexer": "ipython3",
   "version": "3.7.6"
  }
 },
 "nbformat": 4,
 "nbformat_minor": 4
}
